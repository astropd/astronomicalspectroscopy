{
 "cells": [
  {
   "cell_type": "markdown",
   "metadata": {},
   "source": [
    "# Continuum Tutorial \n",
    "## Due: 15 May"
   ]
  },
  {
   "cell_type": "markdown",
   "metadata": {},
   "source": [
    "1) (3pts)  Write a function for Plank emission.   In the document string for the function, please describe the function as well as what are the parameters that are passed to it.   Plot the function for three different temperatures of 11000 K, 6000 K, 3000 K and compare the three curves"
   ]
  },
  {
   "cell_type": "markdown",
   "metadata": {},
   "source": [
    "2) (3pts) Assuming that a hot halo of $T=4.5x10^6$ K with a radius of 8 kpc is optical thin and has an electron density of $1x10^{-3} \\ cm^{-3}$, plot the emission from thermal Bremsstrahlung radiation for the gas from 0.1-3 keV. Assume a $g_{ff}=1.2$ and that the gas cloud is only composed\n",
    "of fully ionized hydrogen. What is the total power emitted from Bremsstrahlung emission?  For that radius, how hot would the gas have to be to emit the same amoutn of power as a blackbody?"
   ]
  },
  {
   "cell_type": "markdown",
   "metadata": {},
   "source": [
    "3) (3pts) In radio astronomy, the brightness temperature is often used to describe the flux of the source and is given by $T_B = \\frac{I_{\\nu} c^2}{2 k \\nu^2}$.   Derive this relation from the Plank law."
   ]
  },
  {
   "cell_type": "code",
   "execution_count": null,
   "metadata": {
    "collapsed": true
   },
   "outputs": [],
   "source": []
  }
 ],
 "metadata": {
  "anaconda-cloud": {},
  "kernelspec": {
   "display_name": "Python [conda env:pyjedi]",
   "language": "python",
   "name": "conda-env-pyjedi-py"
  },
  "language_info": {
   "codemirror_mode": {
    "name": "ipython",
    "version": 3
   },
   "file_extension": ".py",
   "mimetype": "text/x-python",
   "name": "python",
   "nbconvert_exporter": "python",
   "pygments_lexer": "ipython3",
   "version": "3.5.2"
  }
 },
 "nbformat": 4,
 "nbformat_minor": 1
}
