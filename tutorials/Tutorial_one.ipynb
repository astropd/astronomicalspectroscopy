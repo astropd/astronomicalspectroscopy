{
 "cells": [
  {
   "cell_type": "markdown",
   "metadata": {},
   "source": [
    "# Tutorial 1:  Classification of Spectra\n",
    "## Due: 24 April 2017"
   ]
  },
  {
   "cell_type": "markdown",
   "metadata": {},
   "source": [
    "(1) For each of the following spectra, make a plot of each of the spectra.  Make sure to include labels and units on the axis.  Please describe the main features of each spectra.    How would you classify each of the spectra? \n",
    "\n",
    "* [source1.fits](https://crawfordsm.github.io/astronomicalspectroscopy/tutorials/source1.fits)\n",
    "* [source2.fits](https://crawfordsm.github.io/astronomicalspectroscopy/tutorials/source2.fits)\n",
    "* [source3.fits](https://crawfordsm.github.io/astronomicalspectroscopy/tutorials/source3.csv)\n",
    "\n",
    "(Hint: The first two files are in [SDSS spectra FITS format](http://classic.sdss.org/dr7/products/spectra/read_spSpec.html) and can be read in using the [specutils](https://github.com/astropy/specutils) package, and the third one is in a csv format.  )\n",
    "\n"
   ]
  },
  {
   "cell_type": "markdown",
   "metadata": {},
   "source": [
    "(2) Source 1 has multiple emission lines.   For the three brightest emission lines, plot the individual lines and fit a Gaussian model to each line.  What are the centers and FWHM of each line?  In addition, measure the equivalent width for each line. \n",
    "\n",
    "(Hint: Use the astropy.modeling package for fitting Gauasians)"
   ]
  },
  {
   "cell_type": "markdown",
   "metadata": {},
   "source": [
    "(3) The three brightest lines are H$\\alpha$, [OII]$\\lambda 3727$, H$\\beta$, and [OIII]$\\lambda 5006$.  In the rest-frame, these are emitted at 6564.61, 3729.875, 4862.68, and 5008.240 Angstroms.  What is the redshift of this object?  Please include errors and all details of your analysis. "
   ]
  }
 ],
 "metadata": {
  "anaconda-cloud": {},
  "kernelspec": {
   "display_name": "Python [conda env:pyjedi]",
   "language": "python",
   "name": "conda-env-pyjedi-py"
  },
  "language_info": {
   "codemirror_mode": {
    "name": "ipython",
    "version": 3
   },
   "file_extension": ".py",
   "mimetype": "text/x-python",
   "name": "python",
   "nbconvert_exporter": "python",
   "pygments_lexer": "ipython3",
   "version": "3.5.2"
  }
 },
 "nbformat": 4,
 "nbformat_minor": 1
}
