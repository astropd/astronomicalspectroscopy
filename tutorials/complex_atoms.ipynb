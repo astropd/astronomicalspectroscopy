{
 "cells": [
  {
   "cell_type": "markdown",
   "metadata": {},
   "source": [
    "# Complex Atoms and Stromgren spehere\n",
    "## Due: 1 June\n",
    "\n",
    "1). (2pt) The symbol for a particular level is quoted as $^4 F^o_{7/2}$. What are the values of\n",
    "L, S, and J for this level? How many states does it have? What are the other\n",
    "levels for this term?\n",
    "\n",
    "2). (4pt) Give the full L-S notation for all levels between the following transitions.\n",
    "Which spectral lines are allowed under electric dipole selection rules? Are any\n",
    "forbidden or intercombination transitions? Under what astronomical conditions\n",
    "would you be expected these types of transition?\n",
    "\n",
    "* CIII 2s2p -> 2s2\n",
    "* NaI 5f -> 3d\n",
    "\n",
    "3). (2pt) Using the NIST line reference (http://www.physics.nist.gov/PhysRefData/ASD/index.html), what is the rate for spontaneous decay for the following\n",
    "transitions: Hα, [OII]3727, Ca H and K, and Mg 5176.7? What are the different\n",
    "transitions that can produce these lines? Why do different transitions exist?"
   ]
  },
  {
   "cell_type": "markdown",
   "metadata": {},
   "source": [
    "4) A pure hydrogen gas cloud of number density n = 10 cm$^{−3}$ surrounds an O5V star that generates\n",
    "a Lyman continuum flux of NL = 3 × 1049 1/sec. The rate at which hydrogen recombines is a function of temperature \n",
    "but can be taken to be α = 3 × 10$^{−13}$ cm$^3$ sec−1.\n",
    "\n",
    "a) Calculate the size of the Stromgren sphere associated with this star. Express your answer in\n",
    "parsecs.\n",
    "\n",
    "b) The Sun (a G2 V star) emits a Lyman continuum flux of NL = 1 × 10$^{39\n",
    "}$ sec$^{−1}$. What is the size\n",
    "of its Stromgren sphere? \n",
    "\n",
    "c) What can you conclude about the types of main sequence stars that\n",
    "have observable HII regions?"
   ]
  },
  {
   "cell_type": "code",
   "execution_count": null,
   "metadata": {
    "collapsed": true
   },
   "outputs": [],
   "source": []
  }
 ],
 "metadata": {
  "anaconda-cloud": {},
  "kernelspec": {
   "display_name": "Python [default]",
   "language": "python",
   "name": "python3"
  },
  "language_info": {
   "codemirror_mode": {
    "name": "ipython",
    "version": 3
   },
   "file_extension": ".py",
   "mimetype": "text/x-python",
   "name": "python",
   "nbconvert_exporter": "python",
   "pygments_lexer": "ipython3",
   "version": "3.5.2"
  }
 },
 "nbformat": 4,
 "nbformat_minor": 0
}
