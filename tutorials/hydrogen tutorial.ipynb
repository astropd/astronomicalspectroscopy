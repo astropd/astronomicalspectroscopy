{
 "cells": [
  {
   "cell_type": "markdown",
   "metadata": {},
   "source": [
    "# Hydrogen Atom\n",
    "## Due 15 May"
   ]
  },
  {
   "cell_type": "markdown",
   "metadata": {},
   "source": [
    "(1) a. (2pt) A proton and an electron recombine to form atomic hydrogen in the n=3 state. What is the energy and wavelength of the photon emitted? In the n=3 states, what are the different orbital levels which are possible? And what is the total number of different states (mj values) are available for each of those orbital levels?\n",
    "\n",
    "b. (2pt)From the (n,l,m)=(3,0,0) state, the electron relaxes to the ground level. What are all of the different transitions that the electron could make to reach there? Which ones are possible and why? What is the wavelength and energy of those transitions?\n",
    "\n",
    "c. (2pt) For a transition from the n=3 to n=1 state, what is the difference in wavelength if the nucleus is deuterium instead of hydrogen? What if it is carbon with a single electron? Or an isotope of carbon with an atomic weight=13?"
   ]
  },
  {
   "cell_type": "markdown",
   "metadata": {},
   "source": [
    "(2)  Write a function and plot the absorption coefficient for Balmer hydrogen absorption.  For a source with a gray spectrum (ie flat at all wavelengths) and an intensity of I=5x10$^{-15}$ ergs/s/cm$^2$/Angstrom passing through a hydrogen cloud with a radius of 50 pc and a density of 1 particle/cm$^3$, plot how  the intensity will change as a function of wavelength from Hydrogen continuum abosption.   Assume all atoms are in the n=2 state. \n"
   ]
  }
 ],
 "metadata": {
  "anaconda-cloud": {},
  "kernelspec": {
   "display_name": "Python [default]",
   "language": "python",
   "name": "python3"
  },
  "language_info": {
   "codemirror_mode": {
    "name": "ipython",
    "version": 3
   },
   "file_extension": ".py",
   "mimetype": "text/x-python",
   "name": "python",
   "nbconvert_exporter": "python",
   "pygments_lexer": "ipython3",
   "version": "3.5.2"
  }
 },
 "nbformat": 4,
 "nbformat_minor": 1
}
