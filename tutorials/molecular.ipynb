{
 "cells": [
  {
   "cell_type": "markdown",
   "metadata": {},
   "source": [
    "# Molecular spectroscopy\n",
    "## Due June 1"
   ]
  },
  {
   "cell_type": "markdown",
   "metadata": {},
   "source": [
    "1) Interstellar CO is observed absorbing infrared radiation at 2134.63, 2138.46, 2146.16, and 21533.94 cm$^{-1}$.  Identify the transitions observed in this spectra and explain what astrophyscial information might be obtained from this study.   Where might one expect to observe an infrared spectrum of CO in absorption or emission? "
   ]
  },
  {
   "cell_type": "markdown",
   "metadata": {},
   "source": [
    "2) Given that the quantization of angular momentum in a diatomic molecule to integer multiples of h/2π implies that rotational energy is also quantized, with corresponding energy eigen values: J(J+1) h/2π, show that the frequency of a transition between adjacent rotational energy levels:\n",
    "J -> (J-1)\n",
    "is given by: $$\\nu = \\frac{hJ}{4\\pi^2 \\mu r_e}$$\n",
    "where $\\mu$ is the reduced mass of the molecule and re is the atomic separation. By substitution show that the frequency of the ground stat e\n",
    "transition of carbon monoxide is 115.27 GHz, given that $r_e$ is 1.13 x 10$^{-8} cm."
   ]
  },
  {
   "cell_type": "markdown",
   "metadata": {},
   "source": [
    "3) For the molecule of CO, B$_o$ = 1.93 $cm^{-1}$.  Which are the most occupied roration states of CO at T=20 K, 300 K, and 3000 K?   "
   ]
  },
  {
   "cell_type": "code",
   "execution_count": null,
   "metadata": {
    "collapsed": true
   },
   "outputs": [],
   "source": []
  }
 ],
 "metadata": {
  "kernelspec": {
   "display_name": "Python [default]",
   "language": "python",
   "name": "python3"
  },
  "language_info": {
   "codemirror_mode": {
    "name": "ipython",
    "version": 3
   },
   "file_extension": ".py",
   "mimetype": "text/x-python",
   "name": "python",
   "nbconvert_exporter": "python",
   "pygments_lexer": "ipython3",
   "version": "3.5.2"
  }
 },
 "nbformat": 4,
 "nbformat_minor": 1
}
