{
 "cells": [
  {
   "cell_type": "markdown",
   "metadata": {},
   "source": [
    "1) (3pts) Find the solution to the radiative transfer equation in the case of plane parrallel approximation (start with eq 7.12 from Gray) if Sν=a+bτ. Plot the relationship\n",
    "between $I_{\\nu}(\\theta)/I_{\\nu}(\\theta=0)$ vs. $\\theta$ assuming a=b. This is a very simple model for limb\n",
    "darkening. Far more accurate models can be produced using numerical methods.\n",
    "However it does reproduce the general behavior in the intensity distribution of light\n",
    "from the sun in the optical."
   ]
  },
  {
   "cell_type": "markdown",
   "metadata": {},
   "source": [
    "2) (3pts) A solar luminosity star is observed with a flux of \n",
    "$1.8\\times10^{-11} \\ ergs/s/cm^2$ at a\n",
    "distance of 100 pc. What would the flux of the star be at the observer assuming no extinction? What is the optical depth along this line of sight? Is this cloud optically thick or thin? Assuming only absorption by dust, calculate the density of material if the average dust opacity along the line of sight is $\\kappa=3\\times10^{-3}  \\ cm^2/g$."
   ]
  },
  {
   "cell_type": "markdown",
   "metadata": {},
   "source": [
    "3) (3pts) Provide a derivation of black body radiation from first principle.   This may be attached as a separate pdf file to this tutorial."
   ]
  },
  {
   "cell_type": "markdown",
   "metadata": {},
   "source": [
    "4) (3pts) The recent discovered Trappist-1 system has 7 planets orbiting around the central star.  Assuming an albedo of $\\alpha=0.3$ for each of the planets, what would be the predicted temperature of each system?   What albeda would have to be assumed for each planet for it to contain liquid water assuming no atmospheric effects? "
   ]
  }
 ],
 "metadata": {
  "anaconda-cloud": {},
  "kernelspec": {
   "display_name": "Python [default]",
   "language": "python",
   "name": "python3"
  },
  "language_info": {
   "codemirror_mode": {
    "name": "ipython",
    "version": 3
   },
   "file_extension": ".py",
   "mimetype": "text/x-python",
   "name": "python",
   "nbconvert_exporter": "python",
   "pygments_lexer": "ipython3",
   "version": "3.5.2"
  }
 },
 "nbformat": 4,
 "nbformat_minor": 0
}
